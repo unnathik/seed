{
 "cells": [
  {
   "cell_type": "code",
   "execution_count": 12,
   "metadata": {},
   "outputs": [],
   "source": [
    "import requests\n",
    "from bs4 import BeautifulSoup\n",
    "import csv\n",
    "\n",
    "pageNo = 1\n",
    "csvFile = 'csrnews_dataset_full.csv'\n",
    "\n",
    "with open(csvFile, 'w', newline='', encoding='utf-8') as file:\n",
    "    writer = csv.writer(file)    \n",
    "    writer.writerow(['Headline', 'Summary', 'Link', 'Date'])\n",
    "\n",
    "while pageNo <= 50:\n",
    "    url = 'https://www.csrwire.com/press_releases?page=' + str(pageNo)\n",
    "\n",
    "    response = requests.get(url)\n",
    "\n",
    "    if response.status_code == 200:\n",
    "        soup = BeautifulSoup(response.content, 'html.parser')\n",
    "        headlines = soup.find_all('h2', class_='title-3z8xN')\n",
    "        links = soup.find_all('a', class_='copyLink-vLh8f')\n",
    "        summaries = soup.find_all('div', class_='subtitle-bX0pv')\n",
    "        dates = soup.find_all('p', class_='date-22Gfz')\n",
    "\n",
    "    with open(csvFile, 'a', newline='', encoding='utf-8') as file:\n",
    "        writer = csv.writer(file)\n",
    "        for headline, summary, link, date in zip(headlines, summaries, links, dates):\n",
    "            writer.writerow([headline.get_text(), \n",
    "                            summary.get_text(), \n",
    "                            'https://www.csrwire.com' + link['href'], \n",
    "                            date.get_text()])\n",
    "    \n",
    "    pageNo += 1"
   ]
  },
  {
   "cell_type": "code",
   "execution_count": null,
   "metadata": {},
   "outputs": [],
   "source": []
  }
 ],
 "metadata": {
  "kernelspec": {
   "display_name": "Python 3",
   "language": "python",
   "name": "python3"
  },
  "language_info": {
   "codemirror_mode": {
    "name": "ipython",
    "version": 3
   },
   "file_extension": ".py",
   "mimetype": "text/x-python",
   "name": "python",
   "nbconvert_exporter": "python",
   "pygments_lexer": "ipython3",
   "version": "3.11.2"
  }
 },
 "nbformat": 4,
 "nbformat_minor": 2
}
