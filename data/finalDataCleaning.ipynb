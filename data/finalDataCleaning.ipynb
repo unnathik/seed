{
 "cells": [
  {
   "cell_type": "code",
   "execution_count": 1,
   "metadata": {},
   "outputs": [
    {
     "ename": "ModuleNotFoundError",
     "evalue": "No module named 'pandas'",
     "output_type": "error",
     "traceback": [
      "\u001b[0;31m---------------------------------------------------------------------------\u001b[0m",
      "\u001b[0;31mModuleNotFoundError\u001b[0m                       Traceback (most recent call last)",
      "Cell \u001b[0;32mIn[1], line 1\u001b[0m\n\u001b[0;32m----> 1\u001b[0m \u001b[38;5;28;01mimport\u001b[39;00m \u001b[38;5;21;01mpandas\u001b[39;00m \u001b[38;5;28;01mas\u001b[39;00m \u001b[38;5;21;01mpd\u001b[39;00m\n\u001b[1;32m      2\u001b[0m \u001b[38;5;28;01mfrom\u001b[39;00m \u001b[38;5;21;01mfuzzywuzzy\u001b[39;00m \u001b[38;5;28;01mimport\u001b[39;00m process\n\u001b[1;32m      4\u001b[0m \u001b[38;5;66;03m# Load the datasets\u001b[39;00m\n",
      "\u001b[0;31mModuleNotFoundError\u001b[0m: No module named 'pandas'"
     ]
    }
   ],
   "source": [
    "import pandas as pd\n",
    "from fuzzywuzzy import process\n",
    "\n",
    "# Load the datasets\n",
    "file_1_path = 'updated_beta_cause_data.csv'  # Update with the actual path to your first file\n",
    "file_2_path = 'clean-environmental-dataset.csv'  # Update with the actual path to your second file\n",
    "\n",
    "file_1 = pd.read_csv(file_1_path)\n",
    "file_2 = pd.read_csv(file_2_path)\n",
    "\n",
    "# Assuming 'Company Name' is the column in both files to match on\n",
    "# Update 'Company Name' to the actual column names in your files if different\n",
    "company_names_file_1 = file_1['Company Name'].tolist()\n",
    "company_names_file_2 = file_2['Company'].tolist()\n",
    "\n",
    "# Function to apply fuzzy matching and find the best match for each company name in file_1 from file_2\n",
    "def get_best_match(name, list_names, threshold=80):\n",
    "    best_match = process.extractOne(name, list_names, score_cutoff=threshold)\n",
    "    return best_match[0] if best_match else None\n",
    "\n",
    "# Apply fuzzy matching to find the best match for each company name\n",
    "file_1['Matched Company Name'] = file_1['Company Name'].apply(lambda x: get_best_match(x, company_names_file_2))\n",
    "\n",
    "# Merge the two files based on the matched company names\n",
    "merged_data = pd.merge(file_1, file_2, left_on='Matched Company Name', right_on='Company Name', how='left')\n",
    "\n",
    "# Save the merged data to a new CSV file\n",
    "merged_file_path = 'final_dataset.csv'  # Specify your desired output file name\n",
    "merged_data.to_csv(merged_file_path, index=False)\n",
    "\n",
    "print(f\"Merged data saved to {merged_file_path}.\")\n"
   ]
  },
  {
   "cell_type": "code",
   "execution_count": null,
   "metadata": {},
   "outputs": [],
   "source": [
    "# Load the merged data\n",
    "merged_file_path = 'final_dataset.csv'  # Update with the actual path to your merged file\n",
    "data = pd.read_csv(merged_file_path)\n",
    "# Assuming there are duplicate 'Country' columns named 'Country_x' and 'Country_y'\n",
    "# We'll keep 'Country_x' and drop 'Country_y'\n",
    "# Update column names as per your actual data\n",
    "data = data.drop(columns=['Country_y'])\n",
    "\n",
    "# Assuming 'Industry' column contains comma-separated values for industries\n",
    "# First, we'll split the 'Industry' column into a list of industries\n",
    "data['Industry'] = data['Industry'].apply(lambda x: x.split(', ') if pd.notnull(x) else [])\n",
    "\n",
    "# Now, we'll use pandas' get_dummies to perform multi-hot encoding\n",
    "# This creates a new dataframe with binary columns for each industry\n",
    "industry_encoded = data['Industry'].str.join('|').str.get_dummies()\n",
    "\n",
    "# Merge the encoded industries back into the original dataframe\n",
    "data_encoded = pd.concat([data, industry_encoded], axis=1)\n",
    "\n",
    "# Optionally, drop the original 'Industry' column if it's no longer needed\n",
    "data_encoded = data_encoded.drop(columns=['Industry'])\n",
    "\n",
    "# Save the updated data to a new CSV file\n",
    "updated_file_path = 'updated_merged_file.csv'  # Specify your desired output file name\n",
    "data_encoded.to_csv(updated_file_path, index=False)\n",
    "\n",
    "print(f\"Updated data saved to {updated_file_path}.\")"
   ]
  },
  {
   "cell_type": "code",
   "execution_count": null,
   "metadata": {},
   "outputs": [],
   "source": []
  }
 ],
 "metadata": {
  "kernelspec": {
   "display_name": "Python 3",
   "language": "python",
   "name": "python3"
  },
  "language_info": {
   "codemirror_mode": {
    "name": "ipython",
    "version": 3
   },
   "file_extension": ".py",
   "mimetype": "text/x-python",
   "name": "python",
   "nbconvert_exporter": "python",
   "pygments_lexer": "ipython3",
   "version": "3.11.6"
  }
 },
 "nbformat": 4,
 "nbformat_minor": 2
}
